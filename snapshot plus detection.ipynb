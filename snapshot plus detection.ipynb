{
 "cells": [
  {
   "cell_type": "code",
   "execution_count": 1,
   "metadata": {},
   "outputs": [],
   "source": [
    "import cv2\n",
    "import numpy as np\n",
    "face_cascade=cv2.CascadeClassifier('haarcascade_frontalface_default.xml')\n",
    "eye_cascade=cv2.CascadeClassifier('haarcascade_eye.xml')\n",
    "cap=cv2.VideoCapture(0)\n",
    "result= True \n",
    "while (result):\n",
    "    ret,img = cap.read()\n",
    "    gray = cv2.cvtColor(img, cv2.COLOR_BGR2GRAY)\n",
    "    faces= face_cascade.detectMultiScale(gray, 1.3, 5)\n",
    "    y=0\n",
    "    for (x,y,w,h) in faces:\n",
    "        cv2.rectangle(img,(x,y), (x+w,y+), (225,0,0),2,)\n",
    "        roi_gray = gray[y:y+h, x:x+w]\n",
    "        roi_color = img[y:y+h, x:x+w]\n",
    "        if (y!=0) :\n",
    "            ret,frame = cap.read()\n",
    "            cv2.imshow(\"NewPicture\", frame)\n",
    "            cv2.waitKey(0)\n",
    "            cv2.imwrite(\"NewPicture.jpg\",frame)\n",
    "            result = False\n",
    "        eyes = eye_cascade.detectMultiScale(roi_gray)\n",
    "        for(ex,ey,ew,eh ) in eyes:\n",
    "            cv2.rectangle(roi_color, (ex,e), (ex+ew,ey+eh), (0,225,0),2)\n",
    "    cv2.imshow( \"img\",img)\n",
    "    k = cv2.waitKey(30) & 0xff\n",
    "    if k== 27:\n",
    "        result= False\n",
    "cap.release()\n",
    "cv2.destroyAllWindows()\n",
    "    \n",
    "            "
   ]
  },
  {
   "cell_type": "code",
   "execution_count": null,
   "metadata": {},
   "outputs": [],
   "source": []
  }
 ],
 "metadata": {
  "kernelspec": {
   "display_name": "Python 3",
   "language": "python",
   "name": "python3"
  },
  "language_info": {
   "codemirror_mode": {
    "name": "ipython",
    "version": 3
   },
   "file_extension": ".py",
   "mimetype": "text/x-python",
   "name": "python",
   "nbconvert_exporter": "python",
   "pygments_lexer": "ipython3",
   "version": "3.7.4"
  }
 },
 "nbformat": 4,
 "nbformat_minor": 2
}
